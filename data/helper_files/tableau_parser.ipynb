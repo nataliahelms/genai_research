{
 "cells": [
  {
   "cell_type": "code",
   "execution_count": null,
   "id": "0aca7cc8-ddb8-4ecf-85d3-17fa61f37b21",
   "metadata": {},
   "outputs": [],
   "source": [
    "# Asked ChatGPT4 to define calculated fields and Data Sources"
   ]
  },
  {
   "cell_type": "code",
   "execution_count": null,
   "id": "b8f744e8-ff09-462a-b284-98e0266eb006",
   "metadata": {},
   "outputs": [],
   "source": [
    "# First, let's check the file type and its basic properties to ensure we can process it correctly.\n",
    "import os\n",
    "\n",
    "# File path\n",
    "file_path = '/mnt/data/Superstore Performance Dashboard.twb'\n",
    "\n",
    "# Getting file details\n",
    "file_info = {\n",
    "    \"File Name\": os.path.basename(file_path),\n",
    "    \"File Size (KB)\": os.path.getsize(file_path) / 1024,\n",
    "    \"File Type\": os.path.splitext(file_path)[1]\n",
    "}\n",
    "\n",
    "file_info"
   ]
  },
  {
   "cell_type": "code",
   "execution_count": null,
   "id": "e8a80f95-9d71-4e5c-a711-4fa17ef73776",
   "metadata": {},
   "outputs": [],
   "source": [
    "# Initally only returned first 3 it found"
   ]
  },
  {
   "cell_type": "code",
   "execution_count": null,
   "id": "06bcb370-6429-44fc-b8e2-736eb9540a71",
   "metadata": {},
   "outputs": [],
   "source": [
    "# Tableau Workbook files (.twb) are essentially XML files. We can parse this file to extract information about calculated fields and data sources.\n",
    "\n",
    "import xml.etree.ElementTree as ET\n",
    "\n",
    "# Function to parse the Tableau Workbook (TWB) file\n",
    "def parse_tableau_workbook(file_path):\n",
    "    # Parse the XML file\n",
    "    tree = ET.parse(file_path)\n",
    "    root = tree.getroot()\n",
    "\n",
    "    # Initialize containers for data sources and calculated fields\n",
    "    data_sources = {}\n",
    "    calculated_fields = {}\n",
    "\n",
    "    # Iterate through the XML structure to find data sources and calculated fields\n",
    "    for datasource in root.iter('datasource'):\n",
    "        # Data source name\n",
    "        ds_name = datasource.get('name', 'Unknown')\n",
    "        \n",
    "        # Add datasource to the dictionary\n",
    "        data_sources[ds_name] = []\n",
    "\n",
    "        # Search for calculated fields within each data source\n",
    "        for column in datasource.iter('column'):\n",
    "            caption = column.get('caption')\n",
    "            formula = column.find('calculation')\n",
    "\n",
    "            # Check if it's a calculated field (presence of a formula)\n",
    "            if formula is not None and formula.get('class') == 'tableau':\n",
    "                calc_field = {\n",
    "                    \"Caption\": caption,\n",
    "                    \"Formula\": formula.get('formula')\n",
    "                }\n",
    "                calculated_fields[caption] = calc_field\n",
    "                data_sources[ds_name].append(calc_field)\n",
    "\n",
    "    return data_sources, calculated_fields\n",
    "\n",
    "# Parse the workbook and get calculated fields and data sources\n",
    "data_sources_info, calculated_fields_info = parse_tableau_workbook(file_path)\n",
    "\n",
    "# Limiting output for readability, showing first few calculated fields and data sources\n",
    "limited_data_sources_info = {k: data_sources_info[k][:3] for k in list(data_sources_info.keys())[:3]}\n",
    "limited_calculated_fields_info = {k: calculated_fields_info[k] for k in list(calculated_fields_info.keys())[:3]}\n",
    "\n",
    "limited_data_sources_info, limited_calculated_fields_info"
   ]
  },
  {
   "cell_type": "code",
   "execution_count": null,
   "id": "13360a64-3a98-48c9-bb88-29efa4cae696",
   "metadata": {},
   "outputs": [],
   "source": [
    "# Asked for it to Return all calculated fields"
   ]
  },
  {
   "cell_type": "code",
   "execution_count": null,
   "id": "69da74a2-7685-4733-a908-d2fa3faf8dbe",
   "metadata": {},
   "outputs": [],
   "source": [
    "# Returning all the calculated fields from the Tableau Workbook\n",
    "all_calculated_fields_info = calculated_fields_info\n",
    "\n",
    "all_calculated_fields_info"
   ]
  },
  {
   "cell_type": "code",
   "execution_count": null,
   "id": "4520e32f-4078-4b6a-9754-4cd3e73bd7ea",
   "metadata": {},
   "outputs": [],
   "source": [
    "# provide a list of calculated fields"
   ]
  },
  {
   "cell_type": "code",
   "execution_count": null,
   "id": "34c0b5d0-3761-4599-9e12-868ce7e4145a",
   "metadata": {},
   "outputs": [],
   "source": [
    "# Extracting and listing distinct names of the calculated fields from the Tableau Workbook\n",
    "\n",
    "# Function to extract distinct names of calculated fields\n",
    "def get_distinct_calculated_field_names(calculated_fields):\n",
    "    distinct_names = [field_info['Caption'] for field_info in calculated_fields.values()]\n",
    "    return distinct_names\n",
    "\n",
    "# Get the distinct names of the calculated fields\n",
    "distinct_calculated_field_names = get_distinct_calculated_field_names(calculated_fields_info)\n",
    "\n",
    "distinct_calculated_field_names"
   ]
  },
  {
   "cell_type": "code",
   "execution_count": null,
   "id": "8d744511-5014-48bb-b104-f983535546dc",
   "metadata": {},
   "outputs": [],
   "source": [
    "# Asked what Views are Associated"
   ]
  },
  {
   "cell_type": "code",
   "execution_count": null,
   "id": "e93f5689-7fdd-4502-8a6d-1911aa2988bf",
   "metadata": {},
   "outputs": [],
   "source": [
    "# Parsing the Tableau Workbook file to find views (sheets, dashboards, etc.)\n",
    "\n",
    "def parse_tableau_views(file_path):\n",
    "    # Parse the XML file\n",
    "    tree = ET.parse(file_path)\n",
    "    root = tree.getroot()\n",
    "\n",
    "    # Initialize containers for views\n",
    "    views = {\n",
    "        \"sheets\": [],\n",
    "        \"dashboards\": []\n",
    "    }\n",
    "\n",
    "    # Iterate through the XML structure to find views\n",
    "    for workbook in root.iter('workbook'):\n",
    "        for sheets in workbook.iter('sheets'):\n",
    "            for sheet in sheets.iter('sheet'):\n",
    "                views['sheets'].append(sheet.get('name'))\n",
    "\n",
    "        for dashboards in workbook.iter('dashboards'):\n",
    "            for dashboard in dashboards.iter('dashboard'):\n",
    "                views['dashboards'].append(dashboard.get('name'))\n",
    "\n",
    "    return views\n",
    "\n",
    "# Parse the workbook to get views\n",
    "tableau_views = parse_tableau_views(file_path)\n",
    "\n",
    "tableau_views"
   ]
  },
  {
   "cell_type": "code",
   "execution_count": null,
   "id": "04f24066-7678-43ff-a67c-6742da1cdf40",
   "metadata": {},
   "outputs": [],
   "source": [
    "# Asked for the sheets within the dashboards"
   ]
  },
  {
   "cell_type": "code",
   "execution_count": null,
   "id": "4161fe5f-f386-49a5-814d-8b4474f4ce75",
   "metadata": {},
   "outputs": [],
   "source": [
    "# Parsing the Tableau Workbook file to find sheets within dashboards\n",
    "\n",
    "def parse_sheets_within_dashboards(file_path):\n",
    "    # Parse the XML file\n",
    "    tree = ET.parse(file_path)\n",
    "    root = tree.getroot()\n",
    "\n",
    "    # Initialize containers for dashboard sheets\n",
    "    dashboard_sheets = {}\n",
    "\n",
    "    # Iterate through the XML structure to find dashboards and their sheets\n",
    "    for workbook in root.iter('workbook'):\n",
    "        for dashboards in workbook.iter('dashboards'):\n",
    "            for dashboard in dashboards.iter('dashboard'):\n",
    "                dashboard_name = dashboard.get('name')\n",
    "                sheets_in_dashboard = []\n",
    "\n",
    "                for zone in dashboard.iter('zone'):\n",
    "                    if 'name' in zone.attrib:\n",
    "                        sheets_in_dashboard.append(zone.get('name'))\n",
    "\n",
    "                dashboard_sheets[dashboard_name] = sheets_in_dashboard\n",
    "\n",
    "    return dashboard_sheets\n",
    "\n",
    "# Parse the workbook to get sheets within dashboards\n",
    "sheets_within_dashboards = parse_sheets_within_dashboards(file_path)\n",
    "\n",
    "sheets_within_dashboards"
   ]
  },
  {
   "cell_type": "code",
   "execution_count": null,
   "id": "646c3c70-6c09-43ad-8b06-034885b28ca7",
   "metadata": {},
   "outputs": [],
   "source": []
  }
 ],
 "metadata": {
  "kernelspec": {
   "display_name": "Python 3 (ipykernel)",
   "language": "python",
   "name": "python3"
  },
  "language_info": {
   "codemirror_mode": {
    "name": "ipython",
    "version": 3
   },
   "file_extension": ".py",
   "mimetype": "text/x-python",
   "name": "python",
   "nbconvert_exporter": "python",
   "pygments_lexer": "ipython3",
   "version": "3.12.0"
  }
 },
 "nbformat": 4,
 "nbformat_minor": 5
}
