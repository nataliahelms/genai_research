{
 "cells": [
  {
   "cell_type": "code",
   "execution_count": null,
   "id": "00d25084-3072-422d-b40d-23d2b4768199",
   "metadata": {},
   "outputs": [],
   "source": [
    "##### Set Up #####"
   ]
  },
  {
   "cell_type": "code",
   "execution_count": 1,
   "id": "d56911d8-85b1-420f-853b-2c19688c2c7e",
   "metadata": {},
   "outputs": [],
   "source": [
    "import openai\n",
    "import os\n",
    "from openai import OpenAI\n",
    "\n",
    "# set api key which is obtained through open ai account\n",
    "os.environ['OPENAI_API_KEY'] = \"\"\n",
    "# set home directory\n",
    "HOME = \"/Users/nataliahelms/git/genai_research/\"\n",
    "\n",
    "# calling chat model\n",
    "client = OpenAI()"
   ]
  },
  {
   "cell_type": "code",
   "execution_count": null,
   "id": "44aae3e3-e440-4e74-8fb2-4846cd247b34",
   "metadata": {},
   "outputs": [],
   "source": [
    "##### Using the Vision Model to Upload Photos ######"
   ]
  },
  {
   "cell_type": "code",
   "execution_count": 2,
   "id": "3de0fb6c-fccf-4862-907d-3054568996bc",
   "metadata": {},
   "outputs": [],
   "source": [
    "import base64"
   ]
  },
  {
   "cell_type": "code",
   "execution_count": 3,
   "id": "39331233-f3b2-4f23-aefa-ce56e5650940",
   "metadata": {},
   "outputs": [],
   "source": [
    "# Image Path\n",
    "image_path = HOME + 'data/images/superstore.png'\n",
    "\n",
    "# Function to encode the image\n",
    "def encode_image(image_path):\n",
    "  with open(image_path, \"rb\") as image_file:\n",
    "    return base64.b64encode(image_file.read()).decode('utf-8')\n",
    "\n",
    "# Getting the base64 string\n",
    "base64_image = encode_image(image_path)"
   ]
  },
  {
   "cell_type": "code",
   "execution_count": null,
   "id": "0e57a1d2-8476-4704-9d66-ba6c79e7f757",
   "metadata": {},
   "outputs": [],
   "source": [
    "# Create Response"
   ]
  },
  {
   "cell_type": "code",
   "execution_count": 7,
   "id": "eca40dfe-3a4f-42c3-bdc8-4f89aa7827c1",
   "metadata": {},
   "outputs": [
    {
     "name": "stdout",
     "output_type": "stream",
     "text": [
      "Choice(finish_reason='stop', index=0, logprobs=None, message=ChatCompletionMessage(content='1. Analytics\\n2. Dashboard\\n3. Data Visualization\\n4. Business Intelligence\\n5. Sales Data', role='assistant', function_call=None, tool_calls=None))\n"
     ]
    }
   ],
   "source": [
    "response = client.chat.completions.create(\n",
    "  model=\"gpt-4-vision-preview\",\n",
    "  messages=[\n",
    "    {\n",
    "      \"role\": \"user\",\n",
    "      \"content\": [\n",
    "        {\n",
    "          \"type\": \"text\",\n",
    "          \"text\": \"Can you generate 5 key words from the image of the Tabeleau Workbook??\",\n",
    "        },\n",
    "        {\n",
    "          \"type\": \"image_url\",\n",
    "          \"image_url\": {\n",
    "            \"url\": f\"data:image/jpeg;base64,{base64_image}\"\n",
    "          }\n",
    "        }\n",
    "      ],\n",
    "    }\n",
    "  ],\n",
    "  max_tokens=300,\n",
    ")\n",
    "print(response.choices[0])"
   ]
  },
  {
   "cell_type": "code",
   "execution_count": null,
   "id": "df213693-4b9c-4721-b980-5055a9cde585",
   "metadata": {},
   "outputs": [],
   "source": [
    "# What about comparing two images ?"
   ]
  },
  {
   "cell_type": "code",
   "execution_count": 5,
   "id": "4dbcade1-0f54-40ca-adae-b80ced0b9293",
   "metadata": {},
   "outputs": [],
   "source": [
    "# Image Path\n",
    "superstore_path = HOME + 'data/images/superstore.png'\n",
    "silicon_valley_path = HOME + 'data/images/unaffordable_housing_silicon_valley.png'\n",
    "\n",
    "# Getting the base64 string\n",
    "superstore_base64_image = encode_image(superstore_path)\n",
    "silicon_valley_base64_image = encode_image(silicon_valley_path)"
   ]
  },
  {
   "cell_type": "code",
   "execution_count": 6,
   "id": "5692e4ac-8979-41a1-ae6a-3cc4308d44a4",
   "metadata": {},
   "outputs": [
    {
     "name": "stdout",
     "output_type": "stream",
     "text": [
      "Choice(finish_reason='stop', index=0, logprobs=None, message=ChatCompletionMessage(content='For information regarding affordability, specifically related to housing costs, you should look at the second image. It features a map titled \"Affordable Housing in Silicon Valley,\" which illustrates the change in median monthly housing costs from 2010 to 2017 in Silicon Valley. This visualization would provide insights into housing affordability trends over time in the mentioned area.', role='assistant', function_call=None, tool_calls=None))\n"
     ]
    }
   ],
   "source": [
    "png_comparison_response = client.chat.completions.create(\n",
    "  model=\"gpt-4-vision-preview\",\n",
    "  messages=[\n",
    "    {\n",
    "      \"role\": \"user\",\n",
    "      \"content\": [\n",
    "        {\n",
    "          \"type\": \"text\",\n",
    "          \"text\": \"Attached are images of Tableau Workbooks. Which one would you recommend I look at for affordability information?\",\n",
    "        },\n",
    "        {\n",
    "          \"type\": \"image_url\",\n",
    "          \"image_url\": {\n",
    "            \"url\": f\"data:image/jpeg;base64,{superstore_base64_image}\"\n",
    "          }\n",
    "        },\n",
    "        {\n",
    "          \"type\": \"image_url\",\n",
    "          \"image_url\": {\n",
    "            \"url\": f\"data:image/jpeg;base64,{silicon_valley_base64_image}\"\n",
    "          }\n",
    "        }\n",
    "      ],\n",
    "    }\n",
    "  ],\n",
    "  max_tokens=300,\n",
    ")\n",
    "print(png_comparison_response.choices[0])"
   ]
  }
 ],
 "metadata": {
  "kernelspec": {
   "display_name": "Python 3 (ipykernel)",
   "language": "python",
   "name": "python3"
  },
  "language_info": {
   "codemirror_mode": {
    "name": "ipython",
    "version": 3
   },
   "file_extension": ".py",
   "mimetype": "text/x-python",
   "name": "python",
   "nbconvert_exporter": "python",
   "pygments_lexer": "ipython3",
   "version": "3.12.0"
  }
 },
 "nbformat": 4,
 "nbformat_minor": 5
}
